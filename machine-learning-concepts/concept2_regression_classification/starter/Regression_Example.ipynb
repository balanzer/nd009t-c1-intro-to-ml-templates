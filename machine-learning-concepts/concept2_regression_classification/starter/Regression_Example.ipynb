{
 "cells": [
  {
   "cell_type": "code",
   "execution_count": 1,
   "id": "995fa9db",
   "metadata": {},
   "outputs": [],
   "source": [
    "from sklearn.linear_model import LinearRegression"
   ]
  },
  {
   "cell_type": "code",
   "execution_count": 2,
   "id": "48c19352",
   "metadata": {},
   "outputs": [],
   "source": [
    "features = [[5, 3.4, 6], [1, 0.4, 10], [2, 0.1, 1]]\n",
    "target = [1.4, 0.5, 1]"
   ]
  },
  {
   "cell_type": "code",
   "execution_count": 3,
   "id": "cdbd0a62",
   "metadata": {},
   "outputs": [],
   "source": [
    "reg = LinearRegression().fit(features, target)\n"
   ]
  },
  {
   "cell_type": "code",
   "execution_count": 5,
   "id": "13321ae2",
   "metadata": {},
   "outputs": [
    {
     "name": "stdout",
     "output_type": "stream",
     "text": [
      "1.0\n",
      "[1.4 0.5 1. ]\n"
     ]
    }
   ],
   "source": [
    "\n",
    "#Score model with features and target\n",
    "print(reg.score(features, target))\n",
    "# Predict new values based on features\n",
    "print(reg.predict(features))"
   ]
  },
  {
   "cell_type": "code",
   "execution_count": null,
   "id": "f76614c6",
   "metadata": {},
   "outputs": [],
   "source": []
  }
 ],
 "metadata": {
  "kernelspec": {
   "display_name": "Python 3",
   "language": "python",
   "name": "python3"
  },
  "language_info": {
   "codemirror_mode": {
    "name": "ipython",
    "version": 3
   },
   "file_extension": ".py",
   "mimetype": "text/x-python",
   "name": "python",
   "nbconvert_exporter": "python",
   "pygments_lexer": "ipython3",
   "version": "3.8.8"
  }
 },
 "nbformat": 4,
 "nbformat_minor": 5
}
