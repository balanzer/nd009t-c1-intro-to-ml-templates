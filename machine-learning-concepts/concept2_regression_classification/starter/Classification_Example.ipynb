{
 "cells": [
  {
   "cell_type": "code",
   "execution_count": 4,
   "id": "65131c55",
   "metadata": {},
   "outputs": [
    {
     "name": "stdout",
     "output_type": "stream",
     "text": [
      "1.0\n",
      "[0 1 1]\n"
     ]
    }
   ],
   "source": [
    "from sklearn.linear_model import RidgeClassifier\n",
    "\n",
    "features = [[5, 3.4, 6], [1, 0.4, 10], [2, 0.1, 1]]\n",
    "target = [0, 1, 1]\n",
    "\n",
    "# Used alpha parameter in model creation\n",
    "clf = RidgeClassifier(alpha=3.0).fit(\n",
    "features, target\n",
    ")\n",
    "\n",
    "# Score model with features and target\n",
    "print(clf.score(features, target))\n",
    "# Predict new values based on features\n",
    "print(clf.predict(features))\n",
    "\n",
    "\n"
   ]
  },
  {
   "cell_type": "code",
   "execution_count": null,
   "id": "f61faeec",
   "metadata": {},
   "outputs": [],
   "source": []
  }
 ],
 "metadata": {
  "kernelspec": {
   "display_name": "Python 3",
   "language": "python",
   "name": "python3"
  },
  "language_info": {
   "codemirror_mode": {
    "name": "ipython",
    "version": 3
   },
   "file_extension": ".py",
   "mimetype": "text/x-python",
   "name": "python",
   "nbconvert_exporter": "python",
   "pygments_lexer": "ipython3",
   "version": "3.8.8"
  }
 },
 "nbformat": 4,
 "nbformat_minor": 5
}
