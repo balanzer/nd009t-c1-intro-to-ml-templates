{
 "cells": [
  {
   "cell_type": "code",
   "execution_count": 1,
   "id": "7e5eeef7",
   "metadata": {},
   "outputs": [
    {
     "name": "stdout",
     "output_type": "stream",
     "text": [
      "<class 'pandas.core.frame.DataFrame'>\n",
      "RangeIndex: 9 entries, 0 to 8\n",
      "Data columns (total 3 columns):\n",
      " #   Column  Non-Null Count  Dtype  \n",
      "---  ------  --------------  -----  \n",
      " 0   animal  9 non-null      object \n",
      " 1   value   9 non-null      float64\n",
      " 2   date    9 non-null      object \n",
      "dtypes: float64(1), object(2)\n",
      "memory usage: 344.0+ bytes\n"
     ]
    }
   ],
   "source": [
    "import pandas as pd\n",
    "\n",
    "# Creating a mixed dataset of strings, floats, and date strings\n",
    "df = pd.DataFrame(\n",
    "    [\n",
    "        [\"cat\", 1.0, \"3-2021\"],\n",
    "        [\"cat\", 0.5, \"1-2021\"],\n",
    "        [\"dog\", 0.2, \"5-2021\"],\n",
    "        [\"bird\", 3.3, \"3-2021\"],\n",
    "        [\"dog\", 5.7, \"1-2021\"],\n",
    "        [\"dog\", 0.0, \"2-2021\"],\n",
    "        [\"cat\", 1.9, \"4-2021\"],\n",
    "        [\"bird\", 2.4, \"4-2021\"],\n",
    "        [\"bird\", 2.4, \"5-2021\"]\n",
    "    ],\n",
    "    columns=[\"animal\", \"value\", \"date\"]\n",
    ")\n",
    "df.info()"
   ]
  },
  {
   "cell_type": "code",
   "execution_count": 2,
   "id": "c2daeea4",
   "metadata": {},
   "outputs": [
    {
     "name": "stdout",
     "output_type": "stream",
     "text": [
      "<class 'pandas.core.frame.DataFrame'>\n",
      "RangeIndex: 9 entries, 0 to 8\n",
      "Data columns (total 3 columns):\n",
      " #   Column  Non-Null Count  Dtype   \n",
      "---  ------  --------------  -----   \n",
      " 0   animal  9 non-null      category\n",
      " 1   value   9 non-null      float64 \n",
      " 2   date    9 non-null      object  \n",
      "dtypes: category(1), float64(1), object(1)\n",
      "memory usage: 413.0+ bytes\n"
     ]
    }
   ],
   "source": [
    "df['animal'] = df['animal'].astype(\"category\")\n",
    "df.info()"
   ]
  },
  {
   "cell_type": "code",
   "execution_count": 3,
   "id": "81b7b05c",
   "metadata": {},
   "outputs": [
    {
     "data": {
      "text/plain": [
       "<AxesSubplot:>"
      ]
     },
     "execution_count": 3,
     "metadata": {},
     "output_type": "execute_result"
    },
    {
     "data": {
      "image/png": "[encoded data removed]",
      "text/plain": [
       "<Figure size 432x288 with 1 Axes>"
      ]
     },
     "metadata": {
      "needs_background": "light"
     },
     "output_type": "display_data"
    }
   ],
   "source": [
    "#Normalizing Data\n",
    "\n",
    "df[\"value\"].hist()\n"
   ]
  },
  {
   "cell_type": "code",
   "execution_count": 4,
   "id": "12bb771a",
   "metadata": {},
   "outputs": [
    {
     "data": {
      "text/plain": [
       "array([[-0.54744332],\n",
       "       [-0.84071653],\n",
       "       [-1.01668045],\n",
       "       [ 0.80161343],\n",
       "       [ 2.20932483],\n",
       "       [-1.13398974],\n",
       "       [-0.01955155],\n",
       "       [ 0.27372166],\n",
       "       [ 0.27372166]])"
      ]
     },
     "execution_count": 4,
     "metadata": {},
     "output_type": "execute_result"
    }
   ],
   "source": [
    "from sklearn.preprocessing import StandardScaler\n",
    "\n",
    "scaler = StandardScaler()\n",
    "scaler.fit(df[[\"value\"]])\n",
    "scaler.transform(df[[\"value\"]])"
   ]
  },
  {
   "cell_type": "code",
   "execution_count": 5,
   "id": "bff0ab6b",
   "metadata": {},
   "outputs": [
    {
     "data": {
      "text/plain": [
       "<AxesSubplot:>"
      ]
     },
     "execution_count": 5,
     "metadata": {},
     "output_type": "execute_result"
    },
    {
     "data": {
      "image/png": "[encoded data removed]",
      "text/plain": [
       "<Figure size 432x288 with 1 Axes>"
      ]
     },
     "metadata": {
      "needs_background": "light"
     },
     "output_type": "display_data"
    }
   ],
   "source": [
    "df[\"value_transformed\"] = scaler.transform(df[[\"value\"]])\n",
    "df[\"value_transformed\"].hist()"
   ]
  },
  {
   "cell_type": "code",
   "execution_count": 6,
   "id": "54196616",
   "metadata": {},
   "outputs": [
    {
     "name": "stdout",
     "output_type": "stream",
     "text": [
      "<class 'pandas.core.frame.DataFrame'>\n",
      "RangeIndex: 9 entries, 0 to 8\n",
      "Data columns (total 6 columns):\n",
      " #   Column             Non-Null Count  Dtype   \n",
      "---  ------             --------------  -----   \n",
      " 0   animal             9 non-null      category\n",
      " 1   value              9 non-null      float64 \n",
      " 2   date               9 non-null      object  \n",
      " 3   value_transformed  9 non-null      float64 \n",
      " 4   year               9 non-null      int64   \n",
      " 5   month              9 non-null      int64   \n",
      "dtypes: category(1), float64(2), int64(2), object(1)\n",
      "memory usage: 629.0+ bytes\n"
     ]
    }
   ],
   "source": [
    "# Parsing Data Types\n",
    "\n",
    "df[\"year\"] = pd.to_datetime(df[\"date\"]).dt.year\n",
    "df[\"month\"] = pd.to_datetime(df[\"date\"]).dt.month\n",
    "\n",
    "df.info()"
   ]
  },
  {
   "cell_type": "code",
   "execution_count": 7,
   "id": "ff3988b8",
   "metadata": {},
   "outputs": [
    {
     "data": {
      "text/html": [
       "<div>\n",
       "<style scoped>\n",
       "    .dataframe tbody tr th:only-of-type {\n",
       "        vertical-align: middle;\n",
       "    }\n",
       "\n",
       "    .dataframe tbody tr th {\n",
       "        vertical-align: top;\n",
       "    }\n",
       "\n",
       "    .dataframe thead th {\n",
       "        text-align: right;\n",
       "    }\n",
       "</style>\n",
       "<table border=\"1\" class=\"dataframe\">\n",
       "  <thead>\n",
       "    <tr style=\"text-align: right;\">\n",
       "      <th></th>\n",
       "      <th>animal</th>\n",
       "      <th>value</th>\n",
       "      <th>date</th>\n",
       "      <th>value_transformed</th>\n",
       "      <th>year</th>\n",
       "      <th>month</th>\n",
       "    </tr>\n",
       "  </thead>\n",
       "  <tbody>\n",
       "    <tr>\n",
       "      <th>0</th>\n",
       "      <td>cat</td>\n",
       "      <td>1.0</td>\n",
       "      <td>3-2021</td>\n",
       "      <td>-0.547443</td>\n",
       "      <td>2021</td>\n",
       "      <td>3</td>\n",
       "    </tr>\n",
       "    <tr>\n",
       "      <th>1</th>\n",
       "      <td>cat</td>\n",
       "      <td>0.5</td>\n",
       "      <td>1-2021</td>\n",
       "      <td>-0.840717</td>\n",
       "      <td>2021</td>\n",
       "      <td>1</td>\n",
       "    </tr>\n",
       "    <tr>\n",
       "      <th>2</th>\n",
       "      <td>dog</td>\n",
       "      <td>0.2</td>\n",
       "      <td>5-2021</td>\n",
       "      <td>-1.016680</td>\n",
       "      <td>2021</td>\n",
       "      <td>5</td>\n",
       "    </tr>\n",
       "    <tr>\n",
       "      <th>3</th>\n",
       "      <td>bird</td>\n",
       "      <td>3.3</td>\n",
       "      <td>3-2021</td>\n",
       "      <td>0.801613</td>\n",
       "      <td>2021</td>\n",
       "      <td>3</td>\n",
       "    </tr>\n",
       "    <tr>\n",
       "      <th>4</th>\n",
       "      <td>dog</td>\n",
       "      <td>5.7</td>\n",
       "      <td>1-2021</td>\n",
       "      <td>2.209325</td>\n",
       "      <td>2021</td>\n",
       "      <td>1</td>\n",
       "    </tr>\n",
       "    <tr>\n",
       "      <th>5</th>\n",
       "      <td>dog</td>\n",
       "      <td>0.0</td>\n",
       "      <td>2-2021</td>\n",
       "      <td>-1.133990</td>\n",
       "      <td>2021</td>\n",
       "      <td>2</td>\n",
       "    </tr>\n",
       "    <tr>\n",
       "      <th>6</th>\n",
       "      <td>cat</td>\n",
       "      <td>1.9</td>\n",
       "      <td>4-2021</td>\n",
       "      <td>-0.019552</td>\n",
       "      <td>2021</td>\n",
       "      <td>4</td>\n",
       "    </tr>\n",
       "    <tr>\n",
       "      <th>7</th>\n",
       "      <td>bird</td>\n",
       "      <td>2.4</td>\n",
       "      <td>4-2021</td>\n",
       "      <td>0.273722</td>\n",
       "      <td>2021</td>\n",
       "      <td>4</td>\n",
       "    </tr>\n",
       "    <tr>\n",
       "      <th>8</th>\n",
       "      <td>bird</td>\n",
       "      <td>2.4</td>\n",
       "      <td>5-2021</td>\n",
       "      <td>0.273722</td>\n",
       "      <td>2021</td>\n",
       "      <td>5</td>\n",
       "    </tr>\n",
       "  </tbody>\n",
       "</table>\n",
       "</div>"
      ],
      "text/plain": [
       "  animal  value    date  value_transformed  year  month\n",
       "0    cat    1.0  3-2021          -0.547443  2021      3\n",
       "1    cat    0.5  1-2021          -0.840717  2021      1\n",
       "2    dog    0.2  5-2021          -1.016680  2021      5\n",
       "3   bird    3.3  3-2021           0.801613  2021      3\n",
       "4    dog    5.7  1-2021           2.209325  2021      1\n",
       "5    dog    0.0  2-2021          -1.133990  2021      2\n",
       "6    cat    1.9  4-2021          -0.019552  2021      4\n",
       "7   bird    2.4  4-2021           0.273722  2021      4\n",
       "8   bird    2.4  5-2021           0.273722  2021      5"
      ]
     },
     "execution_count": 7,
     "metadata": {},
     "output_type": "execute_result"
    }
   ],
   "source": [
    "df"
   ]
  },
  {
   "cell_type": "code",
   "execution_count": 8,
   "id": "0591d5e4",
   "metadata": {},
   "outputs": [
    {
     "data": {
      "text/html": [
       "<div>\n",
       "<style scoped>\n",
       "    .dataframe tbody tr th:only-of-type {\n",
       "        vertical-align: middle;\n",
       "    }\n",
       "\n",
       "    .dataframe tbody tr th {\n",
       "        vertical-align: top;\n",
       "    }\n",
       "\n",
       "    .dataframe thead th {\n",
       "        text-align: right;\n",
       "    }\n",
       "</style>\n",
       "<table border=\"1\" class=\"dataframe\">\n",
       "  <thead>\n",
       "    <tr style=\"text-align: right;\">\n",
       "      <th></th>\n",
       "      <th>animal_bird</th>\n",
       "      <th>animal_cat</th>\n",
       "      <th>animal_dog</th>\n",
       "    </tr>\n",
       "  </thead>\n",
       "  <tbody>\n",
       "    <tr>\n",
       "      <th>0</th>\n",
       "      <td>0</td>\n",
       "      <td>1</td>\n",
       "      <td>0</td>\n",
       "    </tr>\n",
       "    <tr>\n",
       "      <th>1</th>\n",
       "      <td>0</td>\n",
       "      <td>1</td>\n",
       "      <td>0</td>\n",
       "    </tr>\n",
       "    <tr>\n",
       "      <th>2</th>\n",
       "      <td>0</td>\n",
       "      <td>0</td>\n",
       "      <td>1</td>\n",
       "    </tr>\n",
       "    <tr>\n",
       "      <th>3</th>\n",
       "      <td>1</td>\n",
       "      <td>0</td>\n",
       "      <td>0</td>\n",
       "    </tr>\n",
       "    <tr>\n",
       "      <th>4</th>\n",
       "      <td>0</td>\n",
       "      <td>0</td>\n",
       "      <td>1</td>\n",
       "    </tr>\n",
       "    <tr>\n",
       "      <th>5</th>\n",
       "      <td>0</td>\n",
       "      <td>0</td>\n",
       "      <td>1</td>\n",
       "    </tr>\n",
       "    <tr>\n",
       "      <th>6</th>\n",
       "      <td>0</td>\n",
       "      <td>1</td>\n",
       "      <td>0</td>\n",
       "    </tr>\n",
       "    <tr>\n",
       "      <th>7</th>\n",
       "      <td>1</td>\n",
       "      <td>0</td>\n",
       "      <td>0</td>\n",
       "    </tr>\n",
       "    <tr>\n",
       "      <th>8</th>\n",
       "      <td>1</td>\n",
       "      <td>0</td>\n",
       "      <td>0</td>\n",
       "    </tr>\n",
       "  </tbody>\n",
       "</table>\n",
       "</div>"
      ],
      "text/plain": [
       "   animal_bird  animal_cat  animal_dog\n",
       "0            0           1           0\n",
       "1            0           1           0\n",
       "2            0           0           1\n",
       "3            1           0           0\n",
       "4            0           0           1\n",
       "5            0           0           1\n",
       "6            0           1           0\n",
       "7            1           0           0\n",
       "8            1           0           0"
      ]
     },
     "execution_count": 8,
     "metadata": {},
     "output_type": "execute_result"
    }
   ],
   "source": [
    "#One-hot Encoding\n",
    "\n",
    "pd.get_dummies(df[\"animal\"], prefix=\"animal\")\n"
   ]
  },
  {
   "cell_type": "code",
   "execution_count": 9,
   "id": "b0bb40cb",
   "metadata": {},
   "outputs": [
    {
     "data": {
      "text/html": [
       "<div>\n",
       "<style scoped>\n",
       "    .dataframe tbody tr th:only-of-type {\n",
       "        vertical-align: middle;\n",
       "    }\n",
       "\n",
       "    .dataframe tbody tr th {\n",
       "        vertical-align: top;\n",
       "    }\n",
       "\n",
       "    .dataframe thead th {\n",
       "        text-align: right;\n",
       "    }\n",
       "</style>\n",
       "<table border=\"1\" class=\"dataframe\">\n",
       "  <thead>\n",
       "    <tr style=\"text-align: right;\">\n",
       "      <th></th>\n",
       "      <th>animal</th>\n",
       "      <th>value</th>\n",
       "      <th>date</th>\n",
       "      <th>value_transformed</th>\n",
       "      <th>year</th>\n",
       "      <th>month</th>\n",
       "    </tr>\n",
       "  </thead>\n",
       "  <tbody>\n",
       "    <tr>\n",
       "      <th>0</th>\n",
       "      <td>cat</td>\n",
       "      <td>1.0</td>\n",
       "      <td>3-2021</td>\n",
       "      <td>-0.547443</td>\n",
       "      <td>2021</td>\n",
       "      <td>3</td>\n",
       "    </tr>\n",
       "    <tr>\n",
       "      <th>1</th>\n",
       "      <td>cat</td>\n",
       "      <td>0.5</td>\n",
       "      <td>1-2021</td>\n",
       "      <td>-0.840717</td>\n",
       "      <td>2021</td>\n",
       "      <td>1</td>\n",
       "    </tr>\n",
       "    <tr>\n",
       "      <th>2</th>\n",
       "      <td>dog</td>\n",
       "      <td>0.2</td>\n",
       "      <td>5-2021</td>\n",
       "      <td>-1.016680</td>\n",
       "      <td>2021</td>\n",
       "      <td>5</td>\n",
       "    </tr>\n",
       "    <tr>\n",
       "      <th>3</th>\n",
       "      <td>bird</td>\n",
       "      <td>3.3</td>\n",
       "      <td>3-2021</td>\n",
       "      <td>0.801613</td>\n",
       "      <td>2021</td>\n",
       "      <td>3</td>\n",
       "    </tr>\n",
       "    <tr>\n",
       "      <th>4</th>\n",
       "      <td>dog</td>\n",
       "      <td>5.7</td>\n",
       "      <td>1-2021</td>\n",
       "      <td>2.209325</td>\n",
       "      <td>2021</td>\n",
       "      <td>1</td>\n",
       "    </tr>\n",
       "    <tr>\n",
       "      <th>5</th>\n",
       "      <td>dog</td>\n",
       "      <td>0.0</td>\n",
       "      <td>2-2021</td>\n",
       "      <td>-1.133990</td>\n",
       "      <td>2021</td>\n",
       "      <td>2</td>\n",
       "    </tr>\n",
       "    <tr>\n",
       "      <th>6</th>\n",
       "      <td>cat</td>\n",
       "      <td>1.9</td>\n",
       "      <td>4-2021</td>\n",
       "      <td>-0.019552</td>\n",
       "      <td>2021</td>\n",
       "      <td>4</td>\n",
       "    </tr>\n",
       "    <tr>\n",
       "      <th>7</th>\n",
       "      <td>bird</td>\n",
       "      <td>2.4</td>\n",
       "      <td>4-2021</td>\n",
       "      <td>0.273722</td>\n",
       "      <td>2021</td>\n",
       "      <td>4</td>\n",
       "    </tr>\n",
       "    <tr>\n",
       "      <th>8</th>\n",
       "      <td>bird</td>\n",
       "      <td>2.4</td>\n",
       "      <td>5-2021</td>\n",
       "      <td>0.273722</td>\n",
       "      <td>2021</td>\n",
       "      <td>5</td>\n",
       "    </tr>\n",
       "  </tbody>\n",
       "</table>\n",
       "</div>"
      ],
      "text/plain": [
       "  animal  value    date  value_transformed  year  month\n",
       "0    cat    1.0  3-2021          -0.547443  2021      3\n",
       "1    cat    0.5  1-2021          -0.840717  2021      1\n",
       "2    dog    0.2  5-2021          -1.016680  2021      5\n",
       "3   bird    3.3  3-2021           0.801613  2021      3\n",
       "4    dog    5.7  1-2021           2.209325  2021      1\n",
       "5    dog    0.0  2-2021          -1.133990  2021      2\n",
       "6    cat    1.9  4-2021          -0.019552  2021      4\n",
       "7   bird    2.4  4-2021           0.273722  2021      4\n",
       "8   bird    2.4  5-2021           0.273722  2021      5"
      ]
     },
     "execution_count": 9,
     "metadata": {},
     "output_type": "execute_result"
    }
   ],
   "source": [
    "df"
   ]
  },
  {
   "cell_type": "code",
   "execution_count": null,
   "id": "e3d118d7",
   "metadata": {},
   "outputs": [],
   "source": []
  }
 ],
 "metadata": {
  "kernelspec": {
   "display_name": "Python 3",
   "language": "python",
   "name": "python3"
  },
  "language_info": {
   "codemirror_mode": {
    "name": "ipython",
    "version": 3
   },
   "file_extension": ".py",
   "mimetype": "text/x-python",
   "name": "python",
   "nbconvert_exporter": "python",
   "pygments_lexer": "ipython3",
   "version": "3.8.8"
  }
 },
 "nbformat": 4,
 "nbformat_minor": 5
}
