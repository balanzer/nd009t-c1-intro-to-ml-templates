{
 "cells": [
  {
   "cell_type": "markdown",
   "id": "cd0efdab-cdff-4a3a-b93b-36b1cdb8a37c",
   "metadata": {},
   "source": [
    "# Exercise: Model Training and Evaluation\n",
    "\n",
    "Now that we have the data fundamentals for creating, cleaning, and modifying our datasets, we can train and evaluate a model, in this case it's a linear regression model.\n",
    "\n",
    "Your tasks for this exercise are:\n",
    "1. Create a dataframe with the regression dataset, include the features and target within the same dataframe.\n",
    "2. Create a 60% Train / 20% Validation / 20% Test dataset group using the `train_test_split` method.\n",
    "3. Fit the LinearRegression model on the training set.\n",
    "4. Evaluate the model on the validation set.\n",
    "5. Evaluate the model on the test set."
   ]
  },
  {
   "cell_type": "code",
   "execution_count": 2,
   "id": "7d594dbd-6d8d-48cb-8782-f17ad6350f31",
   "metadata": {},
   "outputs": [],
   "source": [
    "import pandas as pd\n",
    "from sklearn.datasets import make_regression\n",
    "from sklearn.model_selection import train_test_split\n",
    "from sklearn.linear_model import LinearRegression"
   ]
  },
  {
   "cell_type": "code",
   "execution_count": 3,
   "id": "f88843cb-0660-42cc-9b48-57347e41b8e3",
   "metadata": {},
   "outputs": [],
   "source": [
    "regression_dataset = make_regression(\n",
    "    n_samples=10000,\n",
    "    n_features=10,\n",
    "    n_informative=5,\n",
    "    bias=0,\n",
    "    noise=40,\n",
    "    n_targets=1,\n",
    "    random_state=0,\n",
    ")"
   ]
  },
  {
   "cell_type": "code",
   "execution_count": 5,
   "id": "9ffee2de-2a93-4317-9c0a-4660e987849d",
   "metadata": {},
   "outputs": [],
   "source": [
    "# Create the dataframe using the dataset\n",
    "df = pd.DataFrame(regression_dataset[0])\n",
    "df[\"target\"] = regression_dataset[1]"
   ]
  },
  {
   "cell_type": "code",
   "execution_count": 6,
   "id": "ce3f98fb-4002-4cbb-a478-711eb9ac88c7",
   "metadata": {},
   "outputs": [
    {
     "data": {
      "text/html": [
       "<div>\n",
       "<style scoped>\n",
       "    .dataframe tbody tr th:only-of-type {\n",
       "        vertical-align: middle;\n",
       "    }\n",
       "\n",
       "    .dataframe tbody tr th {\n",
       "        vertical-align: top;\n",
       "    }\n",
       "\n",
       "    .dataframe thead th {\n",
       "        text-align: right;\n",
       "    }\n",
       "</style>\n",
       "<table border=\"1\" class=\"dataframe\">\n",
       "  <thead>\n",
       "    <tr style=\"text-align: right;\">\n",
       "      <th></th>\n",
       "      <th>0</th>\n",
       "      <th>1</th>\n",
       "      <th>2</th>\n",
       "      <th>3</th>\n",
       "      <th>4</th>\n",
       "      <th>5</th>\n",
       "      <th>6</th>\n",
       "      <th>7</th>\n",
       "      <th>8</th>\n",
       "      <th>9</th>\n",
       "      <th>target</th>\n",
       "    </tr>\n",
       "  </thead>\n",
       "  <tbody>\n",
       "    <tr>\n",
       "      <th>0</th>\n",
       "      <td>-1.039309</td>\n",
       "      <td>-0.533254</td>\n",
       "      <td>0.006352</td>\n",
       "      <td>-0.130216</td>\n",
       "      <td>-0.672371</td>\n",
       "      <td>-1.227693</td>\n",
       "      <td>-1.605115</td>\n",
       "      <td>0.313087</td>\n",
       "      <td>1.709311</td>\n",
       "      <td>1.486217</td>\n",
       "      <td>-190.336109</td>\n",
       "    </tr>\n",
       "    <tr>\n",
       "      <th>1</th>\n",
       "      <td>0.906268</td>\n",
       "      <td>1.112101</td>\n",
       "      <td>-0.816500</td>\n",
       "      <td>0.461619</td>\n",
       "      <td>0.883569</td>\n",
       "      <td>1.125719</td>\n",
       "      <td>-0.993897</td>\n",
       "      <td>0.999854</td>\n",
       "      <td>-1.919401</td>\n",
       "      <td>-1.137031</td>\n",
       "      <td>33.264389</td>\n",
       "    </tr>\n",
       "    <tr>\n",
       "      <th>2</th>\n",
       "      <td>0.334137</td>\n",
       "      <td>0.320004</td>\n",
       "      <td>-0.248267</td>\n",
       "      <td>-0.317444</td>\n",
       "      <td>0.834343</td>\n",
       "      <td>1.381073</td>\n",
       "      <td>0.901058</td>\n",
       "      <td>-0.655725</td>\n",
       "      <td>0.340868</td>\n",
       "      <td>-1.481551</td>\n",
       "      <td>120.287805</td>\n",
       "    </tr>\n",
       "    <tr>\n",
       "      <th>3</th>\n",
       "      <td>0.250441</td>\n",
       "      <td>-1.215110</td>\n",
       "      <td>-1.562450</td>\n",
       "      <td>0.162566</td>\n",
       "      <td>-1.630155</td>\n",
       "      <td>-0.449801</td>\n",
       "      <td>-1.033361</td>\n",
       "      <td>-0.671750</td>\n",
       "      <td>-1.331549</td>\n",
       "      <td>-0.979638</td>\n",
       "      <td>-472.599566</td>\n",
       "    </tr>\n",
       "    <tr>\n",
       "      <th>4</th>\n",
       "      <td>-1.440993</td>\n",
       "      <td>-0.388298</td>\n",
       "      <td>-0.431737</td>\n",
       "      <td>0.518420</td>\n",
       "      <td>-0.405904</td>\n",
       "      <td>-0.785488</td>\n",
       "      <td>1.008090</td>\n",
       "      <td>-0.695019</td>\n",
       "      <td>1.885108</td>\n",
       "      <td>-0.913755</td>\n",
       "      <td>42.355214</td>\n",
       "    </tr>\n",
       "  </tbody>\n",
       "</table>\n",
       "</div>"
      ],
      "text/plain": [
       "          0         1         2         3         4         5         6  \\\n",
       "0 -1.039309 -0.533254  0.006352 -0.130216 -0.672371 -1.227693 -1.605115   \n",
       "1  0.906268  1.112101 -0.816500  0.461619  0.883569  1.125719 -0.993897   \n",
       "2  0.334137  0.320004 -0.248267 -0.317444  0.834343  1.381073  0.901058   \n",
       "3  0.250441 -1.215110 -1.562450  0.162566 -1.630155 -0.449801 -1.033361   \n",
       "4 -1.440993 -0.388298 -0.431737  0.518420 -0.405904 -0.785488  1.008090   \n",
       "\n",
       "          7         8         9      target  \n",
       "0  0.313087  1.709311  1.486217 -190.336109  \n",
       "1  0.999854 -1.919401 -1.137031   33.264389  \n",
       "2 -0.655725  0.340868 -1.481551  120.287805  \n",
       "3 -0.671750 -1.331549 -0.979638 -472.599566  \n",
       "4 -0.695019  1.885108 -0.913755   42.355214  "
      ]
     },
     "execution_count": 6,
     "metadata": {},
     "output_type": "execute_result"
    }
   ],
   "source": [
    "# `.head()` to view what the dataset looks like\n",
    "df.head()"
   ]
  },
  {
   "cell_type": "code",
   "execution_count": 7,
   "id": "23a1d3d1",
   "metadata": {},
   "outputs": [
    {
     "name": "stdout",
     "output_type": "stream",
     "text": [
      "<class 'pandas.core.frame.DataFrame'>\n",
      "RangeIndex: 10000 entries, 0 to 9999\n",
      "Data columns (total 11 columns):\n",
      " #   Column  Non-Null Count  Dtype  \n",
      "---  ------  --------------  -----  \n",
      " 0   0       10000 non-null  float64\n",
      " 1   1       10000 non-null  float64\n",
      " 2   2       10000 non-null  float64\n",
      " 3   3       10000 non-null  float64\n",
      " 4   4       10000 non-null  float64\n",
      " 5   5       10000 non-null  float64\n",
      " 6   6       10000 non-null  float64\n",
      " 7   7       10000 non-null  float64\n",
      " 8   8       10000 non-null  float64\n",
      " 9   9       10000 non-null  float64\n",
      " 10  target  10000 non-null  float64\n",
      "dtypes: float64(11)\n",
      "memory usage: 859.5 KB\n"
     ]
    }
   ],
   "source": [
    "df.info()"
   ]
  },
  {
   "cell_type": "code",
   "execution_count": 9,
   "id": "e227520b",
   "metadata": {},
   "outputs": [
    {
     "data": {
      "text/html": [
       "<div>\n",
       "<style scoped>\n",
       "    .dataframe tbody tr th:only-of-type {\n",
       "        vertical-align: middle;\n",
       "    }\n",
       "\n",
       "    .dataframe tbody tr th {\n",
       "        vertical-align: top;\n",
       "    }\n",
       "\n",
       "    .dataframe thead th {\n",
       "        text-align: right;\n",
       "    }\n",
       "</style>\n",
       "<table border=\"1\" class=\"dataframe\">\n",
       "  <thead>\n",
       "    <tr style=\"text-align: right;\">\n",
       "      <th></th>\n",
       "      <th>count</th>\n",
       "      <th>mean</th>\n",
       "      <th>std</th>\n",
       "      <th>min</th>\n",
       "      <th>25%</th>\n",
       "      <th>50%</th>\n",
       "      <th>75%</th>\n",
       "      <th>max</th>\n",
       "    </tr>\n",
       "  </thead>\n",
       "  <tbody>\n",
       "    <tr>\n",
       "      <th>0</th>\n",
       "      <td>10000.0</td>\n",
       "      <td>0.001308</td>\n",
       "      <td>0.987169</td>\n",
       "      <td>-3.745536</td>\n",
       "      <td>-0.646897</td>\n",
       "      <td>0.002266</td>\n",
       "      <td>0.668527</td>\n",
       "      <td>3.491550</td>\n",
       "    </tr>\n",
       "    <tr>\n",
       "      <th>1</th>\n",
       "      <td>10000.0</td>\n",
       "      <td>-0.011299</td>\n",
       "      <td>0.999013</td>\n",
       "      <td>-4.659953</td>\n",
       "      <td>-0.691134</td>\n",
       "      <td>-0.013958</td>\n",
       "      <td>0.657367</td>\n",
       "      <td>3.844825</td>\n",
       "    </tr>\n",
       "    <tr>\n",
       "      <th>2</th>\n",
       "      <td>10000.0</td>\n",
       "      <td>0.003908</td>\n",
       "      <td>1.000586</td>\n",
       "      <td>-3.979925</td>\n",
       "      <td>-0.664979</td>\n",
       "      <td>0.015803</td>\n",
       "      <td>0.673310</td>\n",
       "      <td>3.852020</td>\n",
       "    </tr>\n",
       "    <tr>\n",
       "      <th>3</th>\n",
       "      <td>10000.0</td>\n",
       "      <td>-0.002088</td>\n",
       "      <td>0.997873</td>\n",
       "      <td>-3.694285</td>\n",
       "      <td>-0.679852</td>\n",
       "      <td>-0.006015</td>\n",
       "      <td>0.669624</td>\n",
       "      <td>3.687019</td>\n",
       "    </tr>\n",
       "    <tr>\n",
       "      <th>4</th>\n",
       "      <td>10000.0</td>\n",
       "      <td>0.000451</td>\n",
       "      <td>1.003074</td>\n",
       "      <td>-3.740101</td>\n",
       "      <td>-0.684338</td>\n",
       "      <td>-0.003275</td>\n",
       "      <td>0.677439</td>\n",
       "      <td>4.019774</td>\n",
       "    </tr>\n",
       "    <tr>\n",
       "      <th>5</th>\n",
       "      <td>10000.0</td>\n",
       "      <td>0.004861</td>\n",
       "      <td>0.991729</td>\n",
       "      <td>-4.446632</td>\n",
       "      <td>-0.666371</td>\n",
       "      <td>0.013982</td>\n",
       "      <td>0.672570</td>\n",
       "      <td>3.831790</td>\n",
       "    </tr>\n",
       "    <tr>\n",
       "      <th>6</th>\n",
       "      <td>10000.0</td>\n",
       "      <td>0.000872</td>\n",
       "      <td>0.999249</td>\n",
       "      <td>-3.666662</td>\n",
       "      <td>-0.678239</td>\n",
       "      <td>0.000501</td>\n",
       "      <td>0.676898</td>\n",
       "      <td>4.241772</td>\n",
       "    </tr>\n",
       "    <tr>\n",
       "      <th>7</th>\n",
       "      <td>10000.0</td>\n",
       "      <td>-0.001579</td>\n",
       "      <td>0.992302</td>\n",
       "      <td>-3.532992</td>\n",
       "      <td>-0.667808</td>\n",
       "      <td>-0.001851</td>\n",
       "      <td>0.660881</td>\n",
       "      <td>3.803844</td>\n",
       "    </tr>\n",
       "    <tr>\n",
       "      <th>8</th>\n",
       "      <td>10000.0</td>\n",
       "      <td>0.017416</td>\n",
       "      <td>0.991444</td>\n",
       "      <td>-3.581046</td>\n",
       "      <td>-0.628837</td>\n",
       "      <td>0.017455</td>\n",
       "      <td>0.684594</td>\n",
       "      <td>3.766942</td>\n",
       "    </tr>\n",
       "    <tr>\n",
       "      <th>9</th>\n",
       "      <td>10000.0</td>\n",
       "      <td>0.001917</td>\n",
       "      <td>1.011011</td>\n",
       "      <td>-4.852118</td>\n",
       "      <td>-0.681952</td>\n",
       "      <td>-0.013882</td>\n",
       "      <td>0.692497</td>\n",
       "      <td>3.483755</td>\n",
       "    </tr>\n",
       "    <tr>\n",
       "      <th>target</th>\n",
       "      <td>10000.0</td>\n",
       "      <td>-0.452263</td>\n",
       "      <td>159.066023</td>\n",
       "      <td>-570.874919</td>\n",
       "      <td>-107.925346</td>\n",
       "      <td>1.032608</td>\n",
       "      <td>105.848317</td>\n",
       "      <td>707.920434</td>\n",
       "    </tr>\n",
       "  </tbody>\n",
       "</table>\n",
       "</div>"
      ],
      "text/plain": [
       "          count      mean         std         min         25%       50%  \\\n",
       "0       10000.0  0.001308    0.987169   -3.745536   -0.646897  0.002266   \n",
       "1       10000.0 -0.011299    0.999013   -4.659953   -0.691134 -0.013958   \n",
       "2       10000.0  0.003908    1.000586   -3.979925   -0.664979  0.015803   \n",
       "3       10000.0 -0.002088    0.997873   -3.694285   -0.679852 -0.006015   \n",
       "4       10000.0  0.000451    1.003074   -3.740101   -0.684338 -0.003275   \n",
       "5       10000.0  0.004861    0.991729   -4.446632   -0.666371  0.013982   \n",
       "6       10000.0  0.000872    0.999249   -3.666662   -0.678239  0.000501   \n",
       "7       10000.0 -0.001579    0.992302   -3.532992   -0.667808 -0.001851   \n",
       "8       10000.0  0.017416    0.991444   -3.581046   -0.628837  0.017455   \n",
       "9       10000.0  0.001917    1.011011   -4.852118   -0.681952 -0.013882   \n",
       "target  10000.0 -0.452263  159.066023 -570.874919 -107.925346  1.032608   \n",
       "\n",
       "               75%         max  \n",
       "0         0.668527    3.491550  \n",
       "1         0.657367    3.844825  \n",
       "2         0.673310    3.852020  \n",
       "3         0.669624    3.687019  \n",
       "4         0.677439    4.019774  \n",
       "5         0.672570    3.831790  \n",
       "6         0.676898    4.241772  \n",
       "7         0.660881    3.803844  \n",
       "8         0.684594    3.766942  \n",
       "9         0.692497    3.483755  \n",
       "target  105.848317  707.920434  "
      ]
     },
     "execution_count": 9,
     "metadata": {},
     "output_type": "execute_result"
    }
   ],
   "source": [
    "df.describe().T"
   ]
  },
  {
   "cell_type": "code",
   "execution_count": 11,
   "id": "05db4d76-f9e8-441e-8c80-5dc338d7188c",
   "metadata": {},
   "outputs": [],
   "source": [
    "# train: 0.8 | test: 0.2\n",
    "df_train, df_test = train_test_split(df,test_size=0.2,random_state=0)\n",
    "\n",
    "# train: 0.6 | validation: 0.2\n",
    "df_train, df_val = train_test_split(df_train,test_size=0.25,random_state=0)\n",
    "\n",
    "# Final dataset sizes: train: 0.6, validation: 0.2, text: 0.2,"
   ]
  },
  {
   "cell_type": "code",
   "execution_count": 12,
   "id": "fad18b68-9c2c-4375-b0f1-d6cf724a3ec7",
   "metadata": {},
   "outputs": [
    {
     "name": "stdout",
     "output_type": "stream",
     "text": [
      "Train: (6000, 11)\n",
      "Validation: (2000, 11)\n",
      "Test: (2000, 11)\n"
     ]
    }
   ],
   "source": [
    "# Output each shape to confirm the size of train/validation/test\n",
    "print(f\"Train: {df_train.shape}\")\n",
    "print(f\"Validation: {df_val.shape}\")\n",
    "print(f\"Test: {df_test.shape}\")"
   ]
  },
  {
   "cell_type": "code",
   "execution_count": 14,
   "id": "4b51585f-ca26-466c-937c-e6e092b5f1ef",
   "metadata": {},
   "outputs": [],
   "source": [
    "features = df_train.drop(\"target\",axis=1);\n",
    "target = df_train[\"target\"]\n",
    "\n",
    "# Train the linear model by fitting it on the dataframe features and dataframe target\n",
    "reg = LinearRegression(normalize=True).fit(features,target)"
   ]
  },
  {
   "cell_type": "code",
   "execution_count": 15,
   "id": "e215a0d1-e0fa-47e7-86b3-a7b02fcc7bd1",
   "metadata": {},
   "outputs": [
    {
     "data": {
      "text/plain": [
       "0.9377324850713262"
      ]
     },
     "execution_count": 15,
     "metadata": {},
     "output_type": "execute_result"
    }
   ],
   "source": [
    "# Evaluate the linear model by scoring it, by default it's the metric r2.\n",
    "reg.score(features,target)"
   ]
  },
  {
   "cell_type": "code",
   "execution_count": 16,
   "id": "860bde07",
   "metadata": {},
   "outputs": [
    {
     "data": {
      "text/plain": [
       "0.9349344900971387"
      ]
     },
     "execution_count": 16,
     "metadata": {},
     "output_type": "execute_result"
    }
   ],
   "source": [
    "#on val \n",
    "\n",
    "features_val = df_val.drop(\"target\",axis=1);\n",
    "target_val = df_val[\"target\"]\n",
    "\n",
    "reg.score(features_val,target_val)"
   ]
  },
  {
   "cell_type": "code",
   "execution_count": 17,
   "id": "19a89d02-ba16-45c5-a250-7c44ab6b4947",
   "metadata": {},
   "outputs": [
    {
     "data": {
      "text/plain": [
       "0.9323863267980969"
      ]
     },
     "execution_count": 17,
     "metadata": {},
     "output_type": "execute_result"
    }
   ],
   "source": [
    "# Once done optimizing the model using the validation dataset,\n",
    "# Evaluate the linear model by scoring it on the test dataset.\n",
    "features_test = df_test.drop(\"target\",axis=1);\n",
    "target_test = df_test[\"target\"]\n",
    "\n",
    "reg.score(features_test,target_test)"
   ]
  },
  {
   "cell_type": "code",
   "execution_count": null,
   "id": "8f8fddbd",
   "metadata": {},
   "outputs": [],
   "source": []
  }
 ],
 "metadata": {
  "kernelspec": {
   "display_name": "Python 3",
   "language": "python",
   "name": "python3"
  },
  "language_info": {
   "codemirror_mode": {
    "name": "ipython",
    "version": 3
   },
   "file_extension": ".py",
   "mimetype": "text/x-python",
   "name": "python",
   "nbconvert_exporter": "python",
   "pygments_lexer": "ipython3",
   "version": "3.8.8"
  }
 },
 "nbformat": 4,
 "nbformat_minor": 5
}
